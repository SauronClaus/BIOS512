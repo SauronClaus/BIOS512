{
 "cells": [
  {
   "cell_type": "markdown",
   "id": "e9216b63-c18a-4c9b-beff-4b6b2e1b6964",
   "metadata": {},
   "source": [
    "# BIOS512 Assignment #3"
   ]
  },
  {
   "cell_type": "markdown",
   "id": "4403015e-d27f-473c-8720-088ac6db57c9",
   "metadata": {},
   "source": [
    "Import the 📈Tidyverse into your `R` session"
   ]
  },
  {
   "cell_type": "code",
   "execution_count": 8,
   "id": "2cb997c6-b57c-4198-aa5c-8be897467c7c",
   "metadata": {},
   "outputs": [],
   "source": [
    "library ('tidyverse')"
   ]
  },
  {
   "cell_type": "markdown",
   "id": "47ccf7f6-01c6-46b4-94a1-f8dcd8ef8377",
   "metadata": {},
   "source": [
    "In this assignment we'll be using data from the [TidyTuesday Project](https://github.com/rfordatascience/tidytuesday). Specifically, we'll investigate vaccination rates at US schools. A `CSV` file of the data is located at:  \n",
    "\n",
    "[https://github.com/rfordatascience/tidytuesday/blob/master/data/2020/2020-02-25/measles.csv](https://github.com/rfordatascience/tidytuesday/blob/master/data/2020/2020-02-25/measles.csv)\n",
    "\n",
    "Get the \"raw\" data URL and import it into your `R` session using `read_csv`. Remember to capture the data under a variable name of your choosing!"
   ]
  },
  {
   "cell_type": "code",
   "execution_count": 9,
   "id": "8de37571-29da-4393-b1eb-ca13fcd70fed",
   "metadata": {},
   "outputs": [],
   "source": [
    "data_url = 'https://raw.githubusercontent.com/rfordatascience/tidytuesday/refs/heads/master/data/2020/2020-02-25/measles.csv'"
   ]
  },
  {
   "cell_type": "markdown",
   "id": "feb89cec-8cda-457d-95cf-89dbfa932ab4",
   "metadata": {},
   "source": [
    "The `mmr` column has holds 🤒 measles, mumps, rubella 🤒 vaccination rates for students in each respective school. **If the `mmr` value is not available for a school the `mmr` value is set to -1 in this data set.** \n",
    "\n",
    "The target `mmr` vaccination rate as [recommended by the CDC](https://www.cdc.gov/mmwr/preview/mmwrhtml/mm5632a3.htm) for schools is 95%. \n",
    "\n",
    "**Calculate the fraction of schools per state that have vaccination rates greater than the CDC 95%. Capture the output as a table called `df_vacc_rates`.**\n",
    "\n",
    "You'll need to do use `filter`, `group_by`, and `summarize`. \n",
    "\n",
    "I.e.\n",
    "1. Filter out schools that don't report `mmr` vaccination rate (keep schools where `mmr >= 0`).\n",
    "1. Group the data by `state`.\n",
    "1. Summarize fracion of vaccination rates above 95%.\n",
    "\n",
    "💡Remember `n()` stands for the number or records in a group. Also, `sum(mmr >= 95, na.rm=TRUE)` will count the number of values above or equal to 95.💡"
   ]
  },
  {
   "cell_type": "code",
   "execution_count": 15,
   "id": "0ba9a861-00fc-4392-a67d-cddbd5a994e0",
   "metadata": {},
   "outputs": [
    {
     "data": {
      "text/html": [
       "<table class=\"dataframe\">\n",
       "<caption>A tibble: 6 × 2</caption>\n",
       "<thead>\n",
       "\t<tr><th scope=col>state</th><th scope=col>num_high_mmr</th></tr>\n",
       "\t<tr><th scope=col>&lt;chr&gt;</th><th scope=col>&lt;int&gt;</th></tr>\n",
       "</thead>\n",
       "<tbody>\n",
       "\t<tr><td>Arizona    </td><td>  593</td></tr>\n",
       "\t<tr><td>Arkansas   </td><td>    2</td></tr>\n",
       "\t<tr><td>California </td><td>12639</td></tr>\n",
       "\t<tr><td>Colorado   </td><td>  939</td></tr>\n",
       "\t<tr><td>Connecticut</td><td>  478</td></tr>\n",
       "\t<tr><td>Illinois   </td><td> 6893</td></tr>\n",
       "</tbody>\n",
       "</table>\n"
      ],
      "text/latex": [
       "A tibble: 6 × 2\n",
       "\\begin{tabular}{ll}\n",
       " state & num\\_high\\_mmr\\\\\n",
       " <chr> & <int>\\\\\n",
       "\\hline\n",
       "\t Arizona     &   593\\\\\n",
       "\t Arkansas    &     2\\\\\n",
       "\t California  & 12639\\\\\n",
       "\t Colorado    &   939\\\\\n",
       "\t Connecticut &   478\\\\\n",
       "\t Illinois    &  6893\\\\\n",
       "\\end{tabular}\n"
      ],
      "text/markdown": [
       "\n",
       "A tibble: 6 × 2\n",
       "\n",
       "| state &lt;chr&gt; | num_high_mmr &lt;int&gt; |\n",
       "|---|---|\n",
       "| Arizona     |   593 |\n",
       "| Arkansas    |     2 |\n",
       "| California  | 12639 |\n",
       "| Colorado    |   939 |\n",
       "| Connecticut |   478 |\n",
       "| Illinois    |  6893 |\n",
       "\n"
      ],
      "text/plain": [
       "  state       num_high_mmr\n",
       "1 Arizona       593       \n",
       "2 Arkansas        2       \n",
       "3 California  12639       \n",
       "4 Colorado      939       \n",
       "5 Connecticut   478       \n",
       "6 Illinois     6893       "
      ]
     },
     "metadata": {},
     "output_type": "display_data"
    }
   ],
   "source": [
    "# create the df_vacc_rates here\n",
    "\n",
    "\n",
    "df_vacc_rates = read_csv(data_url, col_types = cols()) |>\n",
    "    filter(mmr >= 0) |>\n",
    "    group_by(state) |>\n",
    "    summarize(num_high_mmr = sum(mmr >= 95, na.rm = TRUE))\n",
    "\n",
    "head(df_vacc_rates)"
   ]
  },
  {
   "cell_type": "markdown",
   "id": "900ddf7f-d801-4a70-9453-73bdd3277344",
   "metadata": {},
   "source": [
    "Which state (of those that report `mmr`) has the smallest fraction of schools above the CDC target vaccination rate of 95%?  "
   ]
  },
  {
   "cell_type": "code",
   "execution_count": 21,
   "id": "eec42771-b9f6-4cdf-8d8d-f65675fa2e72",
   "metadata": {
    "tags": []
   },
   "outputs": [
    {
     "data": {
      "text/html": [
       "<table class=\"dataframe\">\n",
       "<caption>A tibble: 6 × 2</caption>\n",
       "<thead>\n",
       "\t<tr><th scope=col>state</th><th scope=col>num_high_mmr</th></tr>\n",
       "\t<tr><th scope=col>&lt;chr&gt;</th><th scope=col>&lt;int&gt;</th></tr>\n",
       "</thead>\n",
       "<tbody>\n",
       "\t<tr><td>Arkansas    </td><td>  2</td></tr>\n",
       "\t<tr><td>North Dakota</td><td>164</td></tr>\n",
       "\t<tr><td>Maine       </td><td>169</td></tr>\n",
       "\t<tr><td>Vermont     </td><td>231</td></tr>\n",
       "\t<tr><td>South Dakota</td><td>277</td></tr>\n",
       "\t<tr><td>Montana     </td><td>370</td></tr>\n",
       "</tbody>\n",
       "</table>\n"
      ],
      "text/latex": [
       "A tibble: 6 × 2\n",
       "\\begin{tabular}{ll}\n",
       " state & num\\_high\\_mmr\\\\\n",
       " <chr> & <int>\\\\\n",
       "\\hline\n",
       "\t Arkansas     &   2\\\\\n",
       "\t North Dakota & 164\\\\\n",
       "\t Maine        & 169\\\\\n",
       "\t Vermont      & 231\\\\\n",
       "\t South Dakota & 277\\\\\n",
       "\t Montana      & 370\\\\\n",
       "\\end{tabular}\n"
      ],
      "text/markdown": [
       "\n",
       "A tibble: 6 × 2\n",
       "\n",
       "| state &lt;chr&gt; | num_high_mmr &lt;int&gt; |\n",
       "|---|---|\n",
       "| Arkansas     |   2 |\n",
       "| North Dakota | 164 |\n",
       "| Maine        | 169 |\n",
       "| Vermont      | 231 |\n",
       "| South Dakota | 277 |\n",
       "| Montana      | 370 |\n",
       "\n"
      ],
      "text/plain": [
       "  state        num_high_mmr\n",
       "1 Arkansas       2         \n",
       "2 North Dakota 164         \n",
       "3 Maine        169         \n",
       "4 Vermont      231         \n",
       "5 South Dakota 277         \n",
       "6 Montana      370         "
      ]
     },
     "metadata": {},
     "output_type": "display_data"
    }
   ],
   "source": [
    "df_vacc_rates = read_csv(data_url, col_types = cols()) |>\n",
    "    filter(mmr >= 0) |>\n",
    "    group_by(state) |>\n",
    "    summarize(num_high_mmr = sum(mmr >= 95, na.rm = TRUE)) |>\n",
    "    arrange(num_high_mmr)\n",
    "\n",
    "head(df_vacc_rates)\n"
   ]
  },
  {
   "cell_type": "markdown",
   "id": "6b573898-3f63-490b-bf33-c38e1014a12c",
   "metadata": {
    "tags": []
   },
   "source": [
    "**A: Arkansas**"
   ]
  },
  {
   "cell_type": "markdown",
   "id": "2866ca03-1f87-466e-ab0a-dd69140496e6",
   "metadata": {},
   "source": [
    "**Make a ECDF plot of the school vaccination rates in North Carolina.** Use the `overall` column which reports the \"overall\" vaccination rate at each school.\n",
    "\n",
    "❗️Remember, you can calculate the `y` value for ECDF charts using `mutate`, and `cume_dist`."
   ]
  },
  {
   "cell_type": "code",
   "execution_count": 24,
   "id": "478c5949-b5cb-4a4c-9915-6201427248c1",
   "metadata": {},
   "outputs": [
    {
     "data": {
      "image/png": "[encoded data removed]",
      "text/plain": [
       "plot without title"
      ]
     },
     "metadata": {
      "image/png": {
       "height": 375,
       "width": 500
      }
     },
     "output_type": "display_data"
    }
   ],
   "source": [
    "df = read_csv(data_url, col_types = cols()) |>\n",
    "    filter(overall >= 0)\n",
    "\n",
    "ggplot(df, aes(x=overall)) + \n",
    "    stat_ecdf(geom = \"step\")"
   ]
  },
  {
   "cell_type": "markdown",
   "id": "8f5ea83f-c904-46ee-9f52-af1bd1afbc96",
   "metadata": {},
   "source": [
    "(My solution is below if you want to peek 👀. Uncomment the code, change the cell to `markdown`, and exectute it. I used `geom_text_repel` from [ggrepel](https://cran.r-project.org/web/packages/ggrepel/vignettes/ggrepel.html) fo the annotation.)"
   ]
  },
  {
   "cell_type": "markdown",
   "id": "28c8ae2d-23a9-4773-9ce3-c0b50ca6ef8d",
   "metadata": {},
   "source": [
    "![](https://github.com/chuckpr/BIOS512/blob/main/assignments/2023/measles-chart.png?raw=true)"
   ]
  },
  {
   "cell_type": "markdown",
   "id": "d2041941-dcee-42e8-957f-a725dc36388f",
   "metadata": {},
   "source": [
    "Is the median vaccination rate for NC schools above the CDC recommended target?"
   ]
  },
  {
   "cell_type": "code",
   "execution_count": null,
   "id": "be2ea536-f8ed-486d-b6e3-9853ac2b01d0",
   "metadata": {},
   "outputs": [],
   "source": [
    "No, it is not."
   ]
  }
 ],
 "metadata": {
  "kernelspec": {
   "display_name": ".conda-bios512:R",
   "language": "R",
   "name": "conda-env-.conda-bios512-r"
  },
  "language_info": {
   "codemirror_mode": "r",
   "file_extension": ".r",
   "mimetype": "text/x-r-source",
   "name": "R",
   "pygments_lexer": "r",
   "version": "4.4.1"
  }
 },
 "nbformat": 4,
 "nbformat_minor": 5
}
